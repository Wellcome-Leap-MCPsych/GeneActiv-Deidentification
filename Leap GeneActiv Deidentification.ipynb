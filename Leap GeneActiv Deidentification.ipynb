{
 "cells": [
  {
   "cell_type": "code",
   "execution_count": null,
   "id": "065a87ab",
   "metadata": {},
   "outputs": [],
   "source": [
    "#                                Leap GeneActiv Deidentification\n",
    "#\n",
    "#   This notebook does the following: \n",
    "#     1. Reads all Geneactiv files under a directory\n",
    "#     2. Applies the deidentification offset for this subject to the timestamp.\n",
    "#     3. Clears anything remotely fishy in the header\n",
    "#     4. Swizzles the time in the filename\n",
    "#     5. Writes the compressed data \n",
    "#\n",
    "#     Input: A directory name containing GeneActiv files\n",
    "#     Output: GeneActiv file with deidentified timestamps \n",
    "#\n",
    "#     Author: Stephen Heisig\n",
    "#     Changes:\n",
    "#         8/07/23 The Dawn of Time: Stephen Heisig\n",
    "#         8/12/23 Add compression\n",
    "#"
   ]
  },
  {
   "cell_type": "code",
   "execution_count": null,
   "id": "bf989c48",
   "metadata": {},
   "outputs": [],
   "source": [
    "#  Imports\n",
    "import sys\n",
    "import os\n",
    "import shutil\n",
    "import glob\n",
    "import gzip\n",
    "from datetime import datetime, timedelta\n",
    "from dateutil.parser import parse\n",
    "import numpy as np\n",
    "import pandas as pd\n",
    "from hurry.filesize import size"
   ]
  },
  {
   "cell_type": "code",
   "execution_count": null,
   "id": "bbbc56ca",
   "metadata": {},
   "outputs": [],
   "source": [
    "pd.set_option('display.max_rows', None)"
   ]
  },
  {
   "cell_type": "code",
   "execution_count": null,
   "id": "aa93b0de",
   "metadata": {},
   "outputs": [],
   "source": [
    "#Subject/Offset Dictionary\n",
    "subjectOffsetDict = {'subject1': -4, 'subject2': -3, 'subject3': -2}"
   ]
  },
  {
   "cell_type": "code",
   "execution_count": null,
   "id": "f5401df4",
   "metadata": {},
   "outputs": [],
   "source": [
    "# Test Directories\n",
    "#Input directory with CSV files\n",
    "#GeneActivCsvDir = '/Users/Heisig/West/LEAP/FirstGeneActivTest/CSV/'\n",
    "GeneActivCsvDir = '/Users/Heisig/West/LEAP/FirstGeneActivTest/CSV/'\n",
    "#Output directory with deidentified CSV files\n",
    "GeneActivDeidentifiedCsvDir = '/Users/Heisig/West/LEAP/FirstGeneActivTest/Deidentified_CSV/'\n",
    "subject = '807'\n",
    "subjectOffset = subjectOffsetDict[subject]\n"
   ]
  },
  {
   "cell_type": "code",
   "execution_count": null,
   "id": "b55fe0bd",
   "metadata": {},
   "outputs": [],
   "source": [
    "#Main function to deidentify a file\n",
    "def deidentify(GeneActivFileName,GeneActivDeidentifiedCsvDir):\n",
    "    \n",
    "    #Read the GeneActiv data part file and process the data section \n",
    "    gaDataDF = pd.read_csv(GeneActivFileName,skiprows=100,header=None)\n",
    "    \n",
    "    #Create a timestamp field\n",
    "    gaDataDF['scoreDateTime'] =  pd.to_datetime(gaDataDF.iloc[:,0], format='%Y-%m-%d %H:%M:%S:%f')\n",
    "    \n",
    "    #Apply the week offset\n",
    "    def addWeek(df):  \n",
    "        #Shift\n",
    "        newTime = df['scoreDateTime'] + timedelta(weeks=subjectOffset)\n",
    "        #Drop off extra milliseconds\n",
    "        newTime = newTime.isoformat(timespec='milliseconds')\n",
    "        return newTime\n",
    "\n",
    "    gaDataDF['scoreDateTime'] = gaDataDF.apply(addWeek,axis=1)\n",
    "    \n",
    "    #Fixup columns\n",
    "    gaDataDF.iloc[:,0] = gaDataDF['scoreDateTime']\n",
    "    gaDataDF = gaDataDF.drop(['scoreDateTime'], axis=1, errors='ignore')\n",
    "    \n",
    "    #Sanitize the Header section and write it to the output file\n",
    "    path_file = os.path.split(GeneActivFileName) \n",
    "    pathName = path_file[0]\n",
    "    fileName = path_file[1]\n",
    "    subjectCode = fileName.split('_')[0]\n",
    "    \n",
    "    #Swizzle the date in the fileName\n",
    "    codeField = fileName.split('_')[1]\n",
    "    dateField = fileName.split('_')[2]\n",
    "    dateField = dateField.split('.')[0]\n",
    "    try:\n",
    "        dateObj = parse(dateField)\n",
    "        dateObj = dateObj + timedelta(weeks=subjectOffset)\n",
    "        dateString = dateObj.strftime(\"%Y-%m-%d\")\n",
    "    except Exception:\n",
    "        print('Not a date in file name')\n",
    "        dateString = 'NotADate'\n",
    "    swizzledFileName = subjectCode+'_'+ codeField+'_'+dateString+'.csv.gz'\n",
    "    \n",
    "    finalFileName = GeneActivDeidentifiedCsvDir+swizzledFileName\n",
    "    fields_to_zero = ['Start Time', 'Date of Birth', 'Config Time', 'Extract Time',\n",
    "                      'Calibration Date', 'Sex', 'Height', 'Weight', 'Handedness Code',\n",
    "                      'Time Zone']\n",
    "\n",
    "    #Read and santize the header lines\n",
    "    fileObj = open(GeneActivFileName, 'r')\n",
    "    linesRead = []\n",
    "    count = 0\n",
    "    while True:\n",
    "        count = count+1\n",
    "        line = fileObj.readline()\n",
    "        if not line:\n",
    "            break\n",
    "        lineList = line.split(',')\n",
    "        \n",
    "        if lineList[0]=='Subject Code':\n",
    "           linesRead.append('Subject Code,'+subjectCode+'\\n')\n",
    "\n",
    "        elif lineList[0] in fields_to_zero:\n",
    "           zeroedLine = lineList[0]+',\\n'\n",
    "           linesRead.append(zeroedLine)\n",
    "        else:\n",
    "           linesRead.append(line)\n",
    "\n",
    "        if count==100:\n",
    "            break\n",
    "    fileObj.close()\n",
    "    \n",
    "    #Make a string of the header lines\n",
    "    lineStr = ''.join(linesRead)\n",
    "    \n",
    "    #Make a string of the dataframe \n",
    "    dataString = gaDataDF.to_csv(index=False,header=False)\n",
    "\n",
    "    # Combine the text and CSV string\n",
    "    combined_string = lineStr + dataString\n",
    "            \n",
    "    # Write the combined string to a compressed file\n",
    "    with gzip.open(finalFileName, 'wt') as f:\n",
    "        f.write(combined_string)\n",
    " "
   ]
  },
  {
   "cell_type": "code",
   "execution_count": null,
   "id": "0075792c",
   "metadata": {},
   "outputs": [],
   "source": [
    "#             Find all the .csv files\n",
    "geneActivFiles = glob.glob(GeneActivCsvDir+'*.csv', recursive = True)\n",
    "geneActivFiles\n"
   ]
  },
  {
   "cell_type": "code",
   "execution_count": null,
   "id": "db0ff95b",
   "metadata": {},
   "outputs": [],
   "source": [
    "#Process all the files\n",
    "for file in geneActivFiles:\n",
    "    deidentify(file,GeneActivDeidentifiedCsvDir)"
   ]
  }
 ],
 "metadata": {
  "kernelspec": {
   "display_name": "Python 3 (ipykernel)",
   "language": "python",
   "name": "python3"
  },
  "language_info": {
   "codemirror_mode": {
    "name": "ipython",
    "version": 3
   },
   "file_extension": ".py",
   "mimetype": "text/x-python",
   "name": "python",
   "nbconvert_exporter": "python",
   "pygments_lexer": "ipython3",
   "version": "3.8.5"
  }
 },
 "nbformat": 4,
 "nbformat_minor": 5
}
